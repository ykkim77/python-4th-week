{
  "nbformat": 4,
  "nbformat_minor": 0,
  "metadata": {
    "colab": {
      "name": "python programming 4th.ipynb",
      "provenance": [],
      "collapsed_sections": [],
      "toc_visible": true,
      "authorship_tag": "ABX9TyORgbsV4av77l7gMHm2QI/T",
      "include_colab_link": true
    },
    "kernelspec": {
      "name": "python3",
      "display_name": "Python 3"
    }
  },
  "cells": [
    {
      "cell_type": "markdown",
      "metadata": {
        "id": "view-in-github",
        "colab_type": "text"
      },
      "source": [
        "<a href=\"https://colab.research.google.com/github/ykkim77/python-4th-week/blob/main/python_programming_4th.ipynb\" target=\"_parent\"><img src=\"https://colab.research.google.com/assets/colab-badge.svg\" alt=\"Open In Colab\"/></a>"
      ]
    },
    {
      "cell_type": "markdown",
      "metadata": {
        "id": "Y6tgumo7j8j2"
      },
      "source": [
        "# 숫자형 Data Type"
      ]
    },
    {
      "cell_type": "markdown",
      "metadata": {
        "id": "2jvr9f1ukCQu"
      },
      "source": [
        "**정수형 데이터 타입**"
      ]
    },
    {
      "cell_type": "code",
      "metadata": {
        "colab": {
          "base_uri": "https://localhost:8080/"
        },
        "id": "MN2rrtklkFdo",
        "outputId": "ebba705e-5770-4015-99e0-068d7bbc3ee3"
      },
      "source": [
        "a = 1    \n",
        "print(\"a = \",a)\n",
        "print(type(a))     # a의 data type을 확인해 보면, int type이라는 것을 확인할 수 있음\n",
        "b = -178\n",
        "print(\"b = \",b) \n",
        "print(type(b))     # b의 data type을 확인해 보면, int type이라는 것을 확인할 수 있음"
      ],
      "execution_count": null,
      "outputs": [
        {
          "output_type": "stream",
          "text": [
            "a =  1\n",
            "<class 'int'>\n",
            "b =  -178\n",
            "<class 'int'>\n"
          ],
          "name": "stdout"
        }
      ]
    },
    {
      "cell_type": "markdown",
      "metadata": {
        "id": "ETH4BAKmm0xr"
      },
      "source": [
        "**실수형 데이터 타입**"
      ]
    },
    {
      "cell_type": "code",
      "metadata": {
        "colab": {
          "base_uri": "https://localhost:8080/"
        },
        "id": "IrN74LQ9nitx",
        "outputId": "e64de138-c811-4a05-dbe9-3d65c3e32a1b"
      },
      "source": [
        "a = 1.2\n",
        "print(\"a = \",a)       \n",
        "print(type(a))           # a의 data type을 확인해 보면, float type이라는 것을 확인할 수 있음\n",
        "\n",
        "b = 4.24E10\n",
        "print(\"b = \",b)\n",
        "print(type(b))          # b의 data type을 확인해 보면, float type이라는 것을 확인할 수 있음\n"
      ],
      "execution_count": null,
      "outputs": [
        {
          "output_type": "stream",
          "text": [
            "a =  1.2\n",
            "<class 'float'>\n",
            "b =  42400000000.0\n",
            "<class 'float'>\n"
          ],
          "name": "stdout"
        }
      ]
    },
    {
      "cell_type": "markdown",
      "metadata": {
        "id": "obSdctoirpgm"
      },
      "source": [
        "**8진수(octal)**"
      ]
    },
    {
      "cell_type": "code",
      "metadata": {
        "colab": {
          "base_uri": "https://localhost:8080/"
        },
        "id": "QNCeLZQqrtrQ",
        "outputId": "7182c838-cff0-4acf-c0c4-7ff60ed465a3"
      },
      "source": [
        "a= 0x177            # a를 8진수로 입력\n",
        "print(a)            # a를 10진수로 출력\n",
        "\n",
        "b = 0x8ff          # b를 16진수로 입력\n",
        "print(b)           # b를 10진수로 출력 "
      ],
      "execution_count": null,
      "outputs": [
        {
          "output_type": "stream",
          "text": [
            "375\n",
            "2303\n"
          ],
          "name": "stdout"
        }
      ]
    },
    {
      "cell_type": "markdown",
      "metadata": {
        "id": "Ers-1R4BtSSq"
      },
      "source": [
        "**사칙 연산이 포함된 숫자**"
      ]
    },
    {
      "cell_type": "code",
      "metadata": {
        "colab": {
          "base_uri": "https://localhost:8080/"
        },
        "id": "qegBH2z5tQHS",
        "outputId": "89ccd1db-81bc-41f6-e55a-3bd321ec5342"
      },
      "source": [
        "a = 3\n",
        "b = 4\n",
        "\n",
        "print (\"a+b = \",a+b)           # 더하기 연산\n",
        "print (\"a*b = \",a*b)           # 곱하기 연산\n",
        "print (\"a/b = \",a/b)           # 나누기 연산\n",
        "print (\"a**b = \",a**b)         # 누승 연산\n",
        "print (\"a//b = \",a//b)\n",
        "print (\"a%b = \",a%b)"
      ],
      "execution_count": null,
      "outputs": [
        {
          "output_type": "stream",
          "text": [
            "a+b =  7\n",
            "a*b =  12\n",
            "a/b =  0.75\n",
            "a**b =  81\n"
          ],
          "name": "stdout"
        }
      ]
    },
    {
      "cell_type": "markdown",
      "metadata": {
        "id": "HSLrBod-vbkV"
      },
      "source": [
        "# 문자열 자료형"
      ]
    },
    {
      "cell_type": "markdown",
      "metadata": {
        "id": "U9ZzeqaFvhJU"
      },
      "source": [
        "문자열 자료형의 다양한 표현 방법"
      ]
    },
    {
      "cell_type": "code",
      "metadata": {
        "colab": {
          "base_uri": "https://localhost:8080/"
        },
        "id": "bs7JBFvgvgbg",
        "outputId": "8257d841-4e85-4aa9-e78d-9f8cd0827bbb"
      },
      "source": [
        "print(\"Hello Wolrd\")       # \" \" 큰 따옴표로 감싸는 문자열\n",
        "print('Hello Wolrd')       # ' ' 작은 따옴표로 감싸는 문자열\n",
        "print(\"\"\"\n",
        "      python is fun       \n",
        "      \"\"\" )                # \"\"\" 큰 따옴표 3개로 감싸는 문자열\n",
        "print('''\n",
        "      Life is too short, You need python       \n",
        "      ''' )                # ''' 작은 따옴표 3개로 감싸는 문자열      "
      ],
      "execution_count": null,
      "outputs": [
        {
          "output_type": "stream",
          "text": [
            "Hello Wolrd\n",
            "Hello Wolrd\n",
            "\n",
            "      python is fun       \n",
            "      \n",
            "\n",
            "      Life is too short, You need python       \n",
            "      \n"
          ],
          "name": "stdout"
        }
      ]
    },
    {
      "cell_type": "markdown",
      "metadata": {
        "id": "4AR9j9pjxeI9"
      },
      "source": [
        "**문자열에서 줄바꿈을 표현하는 방법**"
      ]
    },
    {
      "cell_type": "code",
      "metadata": {
        "colab": {
          "base_uri": "https://localhost:8080/"
        },
        "id": "6eWodpcVxikg",
        "outputId": "f7aa1714-762f-41a7-be34-2e6354357590"
      },
      "source": [
        "multiline = \"Life is too short\\n You need python\"     # \\n 기호는 줄바꿈을 의미한다.\n",
        "print(multiline)\n",
        "multiline = \"\"\"\n",
        "Life is too short\n",
        "You need python\n",
        "\"\"\"                                 # \"\"\" 기호는 문자열의 줄바꿈을 인식하여 데이터를 저장\n",
        "print(multiline)\n",
        "multiline = '''\n",
        "Life is too short\n",
        "You need python\n",
        "'''                                 # ''' 기호는 문자열의 줄바꿈을 인식하여 데이터를 저장\n",
        "print(multiline)"
      ],
      "execution_count": null,
      "outputs": [
        {
          "output_type": "stream",
          "text": [
            "Life is too short\n",
            " You need python\n",
            "\n",
            "Life is too short\n",
            "You need python\n",
            "\n",
            "\n",
            "Life is too short\n",
            "You need python\n",
            "\n"
          ],
          "name": "stdout"
        }
      ]
    },
    {
      "cell_type": "markdown",
      "metadata": {
        "id": "_sv2Lbcoy2X7"
      },
      "source": [
        "**문자열 연산**"
      ]
    },
    {
      "cell_type": "code",
      "metadata": {
        "colab": {
          "base_uri": "https://localhost:8080/"
        },
        "id": "u--TTqGay5I5",
        "outputId": "db40deed-c2c4-4db3-f09a-145bbaff9294"
      },
      "source": [
        "head = \"python\"\n",
        "tail = \" is fun\"\n",
        "\n",
        "print(head + tail)    # 문자열 연결하기\n",
        "\n",
        "print(head * 3)      # 문자열 곱하기\n",
        "\n",
        "a = \"life is too short\"\n",
        "len(a)                    # 문자열 길이 구하기"
      ],
      "execution_count": null,
      "outputs": [
        {
          "output_type": "stream",
          "text": [
            "python is fun\n",
            "pythonpythonpython\n"
          ],
          "name": "stdout"
        },
        {
          "output_type": "execute_result",
          "data": {
            "text/plain": [
              "17"
            ]
          },
          "metadata": {
            "tags": []
          },
          "execution_count": 27
        }
      ]
    },
    {
      "cell_type": "markdown",
      "metadata": {
        "id": "0N0_fmsqzXfz"
      },
      "source": [
        "**문자열 인덱싱**"
      ]
    },
    {
      "cell_type": "code",
      "metadata": {
        "colab": {
          "base_uri": "https://localhost:8080/"
        },
        "id": "mgWwWt0U2VsO",
        "outputId": "cbaf2914-8d03-436e-b7bc-f8349320417a"
      },
      "source": [
        "a = \"Life is tooshort, You need python\"\n",
        "\n",
        "print(a[0],a[1],a[2],a[3],a[4])  # 문자열의 인덱싱 접근\n",
        "\n",
        "print(a[-1],a[-2])    # 문자열 인덱싱을 -1로 접근\n",
        "\n",
        "print(a[0:4])    # 문자열 슬라이싱\n",
        "\n",
        "\n",
        "a = \"20010331Rainy\"\n",
        "print(a[:8])    #  처음부터 8 전까지의 문자열을 뽑아냄\n",
        "print(a[8:])    #  8부터 끝까지의 문자열을 뽑아냄"
      ],
      "execution_count": null,
      "outputs": [
        {
          "output_type": "stream",
          "text": [
            "L i f e  \n",
            "n o\n",
            "Life\n",
            "20010331\n",
            "Rainy\n"
          ],
          "name": "stdout"
        }
      ]
    },
    {
      "cell_type": "markdown",
      "metadata": {
        "id": "Q-wDQ1jU4hNy"
      },
      "source": [
        "**문자열 formatting**"
      ]
    },
    {
      "cell_type": "code",
      "metadata": {
        "colab": {
          "base_uri": "https://localhost:8080/"
        },
        "id": "EZgFXUdi4rOu",
        "outputId": "7a950b44-62ac-4eb5-8e07-b2fc65659ccd"
      },
      "source": [
        "print(\"I eat %d apples\"%3)    # %d는 10진수를 나타냄, 문자열 뒤에 숫자형 %3이 %d에 대치되어 표현\n",
        "number = 3\n",
        "print(\"I eat %d apples\"%number)  # %d는 decimal을 의미한다. 문자열 뒤에 %number 숫자형 변수를 %d에 대입해 문자열에 숫자로 나타낼 때 쓰인다.\n",
        "\n",
        "str_five = \"five\"\n",
        "\n",
        "print(\"I eat %s apples\"%str_five)   # %s 는 string을 의미한다. 문자열 뒤에 %str_five 문자열 변수를 넣어 문자열 안에 %s 에 대입되도록 한다.\n",
        "\n",
        "\n",
        "\n",
        "num = 10\n",
        "day = \"three\"\n",
        "\n",
        "print(\"I ate %d apples, so I was sick for %s days.\"%(num,day))"
      ],
      "execution_count": null,
      "outputs": [
        {
          "output_type": "stream",
          "text": [
            "I eat 3 apples\n",
            "I eat 3 apples\n",
            "I eat five apples\n",
            "I ate 10 apples, so I was sick for three days.\n"
          ],
          "name": "stdout"
        }
      ]
    },
    {
      "cell_type": "markdown",
      "metadata": {
        "id": "c01gxFRRz3gh"
      },
      "source": [
        "**정렬과 공백**"
      ]
    },
    {
      "cell_type": "code",
      "metadata": {
        "colab": {
          "base_uri": "https://localhost:8080/"
        },
        "id": "q4lXzG_Ez6Bo",
        "outputId": "259d70d9-de6a-4f81-fbcf-138c7595f7c9"
      },
      "source": [
        "# %s를 숫자와 함께 사용하면, 공백과 정렬 표현 가능\n",
        "\n",
        "print(\"%10s\"%\"hi\")\n",
        "print(\"%-10sjane\"%\"hi\")"
      ],
      "execution_count": null,
      "outputs": [
        {
          "output_type": "stream",
          "text": [
            "        hi\n",
            "hi        jane\n"
          ],
          "name": "stdout"
        }
      ]
    },
    {
      "cell_type": "code",
      "metadata": {
        "colab": {
          "base_uri": "https://localhost:8080/"
        },
        "id": "j4vKrJ2m0UFB",
        "outputId": "879c4d89-63a0-48fd-fa53-6170a5d4584d"
      },
      "source": [
        "# 소수점 표현하기 \n",
        "print(\"%0.4f\"% 3.42134234)      # 소수점 4자리까지 표현\n",
        "print(\"%10.4f\"% 3.42134234)      # 10개의 공간에 숫자를 표현, 소수점은 4자리까지 표현"
      ],
      "execution_count": null,
      "outputs": [
        {
          "output_type": "stream",
          "text": [
            "3.4213\n",
            "    3.4213\n"
          ],
          "name": "stdout"
        }
      ]
    },
    {
      "cell_type": "code",
      "metadata": {
        "colab": {
          "base_uri": "https://localhost:8080/"
        },
        "id": "YNUMXeFu0teB",
        "outputId": "2da86f02-d659-4a15-ce12-a40f27bafc7c"
      },
      "source": [
        "name = '홍길동'\n",
        "age = 30\n",
        "print(f'나의 이름은 {name} 입니다. 나이는 {age+1} 입니다.')    # f 문자열 formatting"
      ],
      "execution_count": null,
      "outputs": [
        {
          "output_type": "stream",
          "text": [
            "나의 이름은 홍길동 입니다. 나이는 31 입니다.\n"
          ],
          "name": "stdout"
        }
      ]
    },
    {
      "cell_type": "markdown",
      "metadata": {
        "id": "YkMikx281Lj0"
      },
      "source": [
        "**문자열 자료형 관련 함수**"
      ]
    },
    {
      "cell_type": "code",
      "metadata": {
        "colab": {
          "base_uri": "https://localhost:8080/"
        },
        "id": "HFTN1nU0w9wC",
        "outputId": "42921e65-b048-463c-eb8f-928619b10ff4"
      },
      "source": [
        "a = 'hobby'     \n",
        "\n",
        "a.count('b')    # count 함수"
      ],
      "execution_count": null,
      "outputs": [
        {
          "output_type": "execute_result",
          "data": {
            "text/plain": [
              "2"
            ]
          },
          "metadata": {
            "tags": []
          },
          "execution_count": 12
        }
      ]
    },
    {
      "cell_type": "code",
      "metadata": {
        "colab": {
          "base_uri": "https://localhost:8080/",
          "height": 35
        },
        "id": "7VLZc1NyR5OK",
        "outputId": "2a6c13fa-fce6-4949-d26e-77d2153f606d"
      },
      "source": [
        "','.join('1231414214513414a')   # join 함수수"
      ],
      "execution_count": null,
      "outputs": [
        {
          "output_type": "execute_result",
          "data": {
            "application/vnd.google.colaboratory.intrinsic+json": {
              "type": "string"
            },
            "text/plain": [
              "'1,2,3,1,4,1,4,2,1,4,5,1,3,4,1,4,a'"
            ]
          },
          "metadata": {
            "tags": []
          },
          "execution_count": 19
        }
      ]
    },
    {
      "cell_type": "code",
      "metadata": {
        "colab": {
          "base_uri": "https://localhost:8080/"
        },
        "id": "MMiqq8ck1dVf",
        "outputId": "e413d975-7fa9-4963-ba83-65ad2ee0c3b6"
      },
      "source": [
        "a = \"python is best choice\"\n",
        "\n",
        "print(a.find('b'))       # b 의 위치를 반환\n",
        "print(a.find('k'))       # k 의 위치를 반환, k의 위착 없으므로 -1이 반환됨됨"
      ],
      "execution_count": null,
      "outputs": [
        {
          "output_type": "stream",
          "text": [
            "10\n",
            "-1\n"
          ],
          "name": "stdout"
        }
      ]
    },
    {
      "cell_type": "code",
      "metadata": {
        "colab": {
          "base_uri": "https://localhost:8080/"
        },
        "id": "uLH7Orow1zt_",
        "outputId": "067ce0b5-28af-4f77-e7f5-e04e56a1b7ac"
      },
      "source": [
        "a = 'hi'\n",
        "\n",
        "print(a.upper())   # 소문자를 대문자로 변환\n",
        "\n",
        "b = 'HI'\n",
        "\n",
        "print(b.lower())   # 대문자를 소문자로 변환"
      ],
      "execution_count": null,
      "outputs": [
        {
          "output_type": "stream",
          "text": [
            "HI\n",
            "hi\n"
          ],
          "name": "stdout"
        }
      ]
    },
    {
      "cell_type": "code",
      "metadata": {
        "colab": {
          "base_uri": "https://localhost:8080/",
          "height": 35
        },
        "id": "D6IKUfW_6nGx",
        "outputId": "5aebd09a-3a86-4a55-a7f5-eb91bec93de6"
      },
      "source": [
        "a = \"Life is too short\"\n",
        "a.replace(\"Life\",\"Your leg\")   # replace() 함수를 이용하여 특정 값을 다른 값으로 치환하기기"
      ],
      "execution_count": null,
      "outputs": [
        {
          "output_type": "execute_result",
          "data": {
            "application/vnd.google.colaboratory.intrinsic+json": {
              "type": "string"
            },
            "text/plain": [
              "'Your leg is too short'"
            ]
          },
          "metadata": {
            "tags": []
          },
          "execution_count": 19
        }
      ]
    },
    {
      "cell_type": "code",
      "metadata": {
        "id": "G6eGBTX3697p"
      },
      "source": [
        "a = \"Life is too short\"\n",
        "print(a.split())    # 공백을 기준으로 문자열을 나눔\n",
        "\n",
        "b = \"a:b:c:d\"\n",
        "print(b.split(':')) # :기호를 기준으로 문자열을 나눔"
      ],
      "execution_count": null,
      "outputs": []
    },
    {
      "cell_type": "markdown",
      "metadata": {
        "id": "ESMrS-KK7RsC"
      },
      "source": [
        "# 리스트 자료형"
      ]
    },
    {
      "cell_type": "markdown",
      "metadata": {
        "id": "BG5mkQal-Cxx"
      },
      "source": [
        "**리스트 자료형의 정의**"
      ]
    },
    {
      "cell_type": "code",
      "metadata": {
        "id": "qEnWbav79P0i"
      },
      "source": [
        "# 리스트 안에 어떠한 자료형도 포함 가능\n",
        "a = []\n",
        "b = [1,2,3,4]\n",
        "c = ['Life','is', 'too', 'short']\n",
        "d = [1, 2, 'Life', 'is']\n",
        "e = [1,2,['Life', 'is']]"
      ],
      "execution_count": 16,
      "outputs": []
    },
    {
      "cell_type": "code",
      "metadata": {
        "colab": {
          "base_uri": "https://localhost:8080/"
        },
        "id": "oTAsKPqy-HwQ",
        "outputId": "f315fa73-8148-4b01-def7-26c664e3e610"
      },
      "source": [
        "e [2]      # 리스트는 인덱스를 통해 접근 가능함"
      ],
      "execution_count": 17,
      "outputs": [
        {
          "output_type": "execute_result",
          "data": {
            "text/plain": [
              "['Life', 'is']"
            ]
          },
          "metadata": {
            "tags": []
          },
          "execution_count": 17
        }
      ]
    },
    {
      "cell_type": "code",
      "metadata": {
        "colab": {
          "base_uri": "https://localhost:8080/",
          "height": 35
        },
        "id": "x8V04mcj_1W7",
        "outputId": "28646d08-82d5-4203-ee14-4241339d58ce"
      },
      "source": [
        "d[-1]     # 인덱스 -1은 마지막 요솟값을 가르킴"
      ],
      "execution_count": 18,
      "outputs": [
        {
          "output_type": "execute_result",
          "data": {
            "application/vnd.google.colaboratory.intrinsic+json": {
              "type": "string"
            },
            "text/plain": [
              "'is'"
            ]
          },
          "metadata": {
            "tags": []
          },
          "execution_count": 18
        }
      ]
    },
    {
      "cell_type": "code",
      "metadata": {
        "colab": {
          "base_uri": "https://localhost:8080/"
        },
        "id": "BVCadOWtAa33",
        "outputId": "9de70026-c405-4853-b74c-7bd0ee2d4578"
      },
      "source": [
        "b[0] + b[2]     # 리스트 요솟값 간의 덧셈셈"
      ],
      "execution_count": 19,
      "outputs": [
        {
          "output_type": "execute_result",
          "data": {
            "text/plain": [
              "4"
            ]
          },
          "metadata": {
            "tags": []
          },
          "execution_count": 19
        }
      ]
    },
    {
      "cell_type": "code",
      "metadata": {
        "colab": {
          "base_uri": "https://localhost:8080/"
        },
        "id": "tNgHm0DlA2ix",
        "outputId": "a54dbe44-3213-456b-f5ef-e5167cf37968"
      },
      "source": [
        "print(b+c)    # 리스트 합치기\n",
        "print(b*2)    # 리스트 반복\n"
      ],
      "execution_count": 20,
      "outputs": [
        {
          "output_type": "stream",
          "text": [
            "[1, 2, 3, 4, 'Life', 'is', 'too', 'short']\n",
            "[1, 2, 3, 4, 1, 2, 3, 4]\n"
          ],
          "name": "stdout"
        }
      ]
    },
    {
      "cell_type": "code",
      "metadata": {
        "colab": {
          "base_uri": "https://localhost:8080/"
        },
        "id": "S-fifY3LBE_E",
        "outputId": "d77c43a0-c95a-4b67-a145-58d70e571e5d"
      },
      "source": [
        "b[0] = 100    # 리스트 요소값을 수정하기\n",
        "print(b)"
      ],
      "execution_count": 21,
      "outputs": [
        {
          "output_type": "stream",
          "text": [
            "[100, 2, 3, 4]\n"
          ],
          "name": "stdout"
        }
      ]
    },
    {
      "cell_type": "code",
      "metadata": {
        "id": "hJOYsLJxBNh0"
      },
      "source": [
        "del b[3]     # del 키워드로 리스트 요소 삭제하기기"
      ],
      "execution_count": 22,
      "outputs": []
    },
    {
      "cell_type": "code",
      "metadata": {
        "colab": {
          "base_uri": "https://localhost:8080/"
        },
        "id": "m-FlmrIeBT5E",
        "outputId": "8add53ae-2f26-4f3a-a255-2a11c3717b1e"
      },
      "source": [
        "b.append(9)   # append 내장함수로 리스트 맨 마지막에 9을 추가\n",
        "b"
      ],
      "execution_count": 23,
      "outputs": [
        {
          "output_type": "execute_result",
          "data": {
            "text/plain": [
              "[100, 2, 3, 9]"
            ]
          },
          "metadata": {
            "tags": []
          },
          "execution_count": 23
        }
      ]
    },
    {
      "cell_type": "code",
      "metadata": {
        "colab": {
          "base_uri": "https://localhost:8080/"
        },
        "id": "pKTEU864DLyw",
        "outputId": "c421c597-b364-476c-9e89-b210ff00a556"
      },
      "source": [
        "b.index(9)    # 요소를 검색하여 위치를 반환"
      ],
      "execution_count": 24,
      "outputs": [
        {
          "output_type": "execute_result",
          "data": {
            "text/plain": [
              "3"
            ]
          },
          "metadata": {
            "tags": []
          },
          "execution_count": 24
        }
      ]
    },
    {
      "cell_type": "code",
      "metadata": {
        "colab": {
          "base_uri": "https://localhost:8080/"
        },
        "id": "gPpQOrGCDbwq",
        "outputId": "7e6049c3-0ed0-4341-f89f-ec9600856b59"
      },
      "source": [
        "b.sort()      # 리스트의 요소를 순서대로 정렬.sort()      # 리스트의 요소를 순서대로 정렬\n",
        "b"
      ],
      "execution_count": 25,
      "outputs": [
        {
          "output_type": "execute_result",
          "data": {
            "text/plain": [
              "[2, 3, 9, 100]"
            ]
          },
          "metadata": {
            "tags": []
          },
          "execution_count": 25
        }
      ]
    },
    {
      "cell_type": "code",
      "metadata": {
        "colab": {
          "base_uri": "https://localhost:8080/"
        },
        "id": "dIZRBzusD9YF",
        "outputId": "ab6f27aa-5157-47e1-bd47-1cc60335c3ab"
      },
      "source": [
        "b.reverse()     # 리스트를 역순으로 뒤집어줌\n",
        "b"
      ],
      "execution_count": 26,
      "outputs": [
        {
          "output_type": "execute_result",
          "data": {
            "text/plain": [
              "[100, 9, 3, 2]"
            ]
          },
          "metadata": {
            "tags": []
          },
          "execution_count": 26
        }
      ]
    },
    {
      "cell_type": "code",
      "metadata": {
        "colab": {
          "base_uri": "https://localhost:8080/"
        },
        "id": "A4lW2gxlEGpX",
        "outputId": "c56a094b-ac35-4523-ab71-16ee7d439437"
      },
      "source": [
        "b.insert(1,4)      # 리스트에 요소 삽입,   인덱스 1 자리에 4를 삽입\n",
        "b"
      ],
      "execution_count": 27,
      "outputs": [
        {
          "output_type": "execute_result",
          "data": {
            "text/plain": [
              "[100, 4, 9, 3, 2]"
            ]
          },
          "metadata": {
            "tags": []
          },
          "execution_count": 27
        }
      ]
    },
    {
      "cell_type": "code",
      "metadata": {
        "colab": {
          "base_uri": "https://localhost:8080/"
        },
        "id": "BBA0Z8kAEgO5",
        "outputId": "4016ab7c-5d41-4954-d538-f4fc7466489d"
      },
      "source": [
        "b.remove(100)   # 리스트에서 첫번째로 나오는 데이터를 삭제\n",
        "b"
      ],
      "execution_count": 28,
      "outputs": [
        {
          "output_type": "execute_result",
          "data": {
            "text/plain": [
              "[4, 9, 3, 2]"
            ]
          },
          "metadata": {
            "tags": []
          },
          "execution_count": 28
        }
      ]
    },
    {
      "cell_type": "code",
      "metadata": {
        "colab": {
          "base_uri": "https://localhost:8080/"
        },
        "id": "prD-hKUdEnei",
        "outputId": "39b26fa6-dc45-42a2-bf68-ff52569094e7"
      },
      "source": [
        "b.extend([5,6,7,8,])   # 리스트 확장하기\n",
        "b"
      ],
      "execution_count": 29,
      "outputs": [
        {
          "output_type": "execute_result",
          "data": {
            "text/plain": [
              "[4, 9, 3, 2, 5, 6, 7, 8]"
            ]
          },
          "metadata": {
            "tags": []
          },
          "execution_count": 29
        }
      ]
    },
    {
      "cell_type": "code",
      "metadata": {
        "id": "DoAypl6JbqOl"
      },
      "source": [
        ""
      ],
      "execution_count": null,
      "outputs": []
    }
  ]
}